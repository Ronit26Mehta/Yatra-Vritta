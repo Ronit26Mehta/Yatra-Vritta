{
 "cells": [
  {
   "cell_type": "code",
   "execution_count": 8,
   "metadata": {},
   "outputs": [
    {
     "name": "stdout",
     "output_type": "stream",
     "text": [
      "Model training and saving completed!\n"
     ]
    }
   ],
   "source": [
    "import pandas as pd\n",
    "from sklearn.preprocessing import StandardScaler\n",
    "from sklearn.neighbors import NearestNeighbors\n",
    "import joblib\n",
    "import os\n",
    "\n",
    "def train_model():\n",
    "    # Create models directory if it doesn't exist\n",
    "    if not os.path.exists('models'):\n",
    "        os.makedirs('models')\n",
    "\n",
    "    # Load dataset\n",
    "    df = pd.read_csv('medical_tourism_ranking.csv')\n",
    "    \n",
    "    # Handle missing values\n",
    "    df = df.dropna(subset=['countrycode'])\n",
    "    \n",
    "    # Calculate Medical Tourism Score (weighted average of normalized features)\n",
    "    features = [\n",
    "        'Hospital Beds per 1,000',\n",
    "        'Health Spending per Capita (USD)',\n",
    "        'GDP per Capita (USD)',\n",
    "        'Tourist Arrivals per Year',\n",
    "        'Ease of Doing Business Score',\n",
    "        'Safety Index (Homicide Rate)'\n",
    "    ]\n",
    "    \n",
    "    # Normalize features and calculate score\n",
    "    scaler = StandardScaler()\n",
    "    X = df[features]\n",
    "    X_scaled = scaler.fit_transform(X)\n",
    "    \n",
    "    # Calculate weighted score (you can adjust weights based on importance)\n",
    "    weights = [0.2, 0.2, 0.15, 0.15, 0.15, 0.15]\n",
    "    df['Medical Tourism Score'] = (X_scaled * weights).sum(axis=1)\n",
    "    \n",
    "    # Train KNN model\n",
    "    model = NearestNeighbors(n_neighbors=5, metric='cosine', algorithm='brute')\n",
    "    model.fit(X_scaled)\n",
    "    \n",
    "    # Save artifacts\n",
    "    joblib.dump(model, 'models/medical_tourism_model.pkl')\n",
    "    joblib.dump(scaler, 'models/scaler.pkl')\n",
    "    df.to_pickle('models/cities_df.pkl')\n",
    "    \n",
    "    print(\"Model training and saving completed!\")\n",
    "\n",
    "if __name__ == \"__main__\":\n",
    "    train_model()"
   ]
  },
  {
   "cell_type": "code",
   "execution_count": 9,
   "metadata": {},
   "outputs": [
    {
     "name": "stdout",
     "output_type": "stream",
     "text": [
      "Model training and saving completed!\n"
     ]
    }
   ],
   "source": [
    "import pandas as pd\n",
    "from sklearn.preprocessing import StandardScaler\n",
    "from sklearn.neighbors import NearestNeighbors\n",
    "import joblib\n",
    "import os\n",
    "\n",
    "def train_model():\n",
    "    # Create models directory if it doesn't exist\n",
    "    if not os.path.exists('models_mice'):\n",
    "        os.makedirs('models_mice')\n",
    "\n",
    "    # Load dataset\n",
    "    df = pd.read_csv('mice_destination_ranking.csv')\n",
    "    \n",
    "    # Handle missing values\n",
    "    df = df.dropna(subset=['countrycode'])\n",
    "    \n",
    "    # Calculate City Ranking Score (weighted average of normalized features)\n",
    "    features = [\n",
    "        'Ease of Doing Business Score',\n",
    "        'GDP per Capita (USD)',\n",
    "        'International Air Passengers',\n",
    "        'Tourist Arrivals',\n",
    "        'Safety Index (Homicide Rate)',\n",
    "        'MICE Score'\n",
    "    ]\n",
    "    \n",
    "    # Normalize features and calculate score\n",
    "    scaler = StandardScaler()\n",
    "    X = df[features]\n",
    "    X_scaled = scaler.fit_transform(X)\n",
    "    \n",
    "    # Calculate weighted score (you can adjust weights based on importance)\n",
    "    weights = [0.2, 0.2, 0.15, 0.15, 0.15, 0.15]\n",
    "    df['City Ranking Score'] = (X_scaled * weights).sum(axis=1)\n",
    "    \n",
    "    # Train KNN model\n",
    "    model = NearestNeighbors(n_neighbors=5, metric='cosine', algorithm='brute')\n",
    "    model.fit(X_scaled)\n",
    "    \n",
    "    # Save artifacts\n",
    "    joblib.dump(model, 'models_mice/city_ranking_model.pkl')\n",
    "    joblib.dump(scaler, 'models_mice/scaler.pkl')\n",
    "    df.to_pickle('models_mice/cities_df.pkl')\n",
    "    \n",
    "    print(\"Model training and saving completed!\")\n",
    "\n",
    "if __name__ == \"__main__\":\n",
    "    train_model()\n"
   ]
  },
  {
   "cell_type": "code",
   "execution_count": null,
   "metadata": {},
   "outputs": [],
   "source": []
  }
 ],
 "metadata": {
  "kernelspec": {
   "display_name": "Python 3",
   "language": "python",
   "name": "python3"
  },
  "language_info": {
   "codemirror_mode": {
    "name": "ipython",
    "version": 3
   },
   "file_extension": ".py",
   "mimetype": "text/x-python",
   "name": "python",
   "nbconvert_exporter": "python",
   "pygments_lexer": "ipython3",
   "version": "3.11.3"
  }
 },
 "nbformat": 4,
 "nbformat_minor": 2
}
